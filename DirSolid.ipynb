{
  "nbformat": 4,
  "nbformat_minor": 0,
  "metadata": {
    "colab": {
      "provenance": []
    },
    "kernelspec": {
      "name": "python3",
      "display_name": "Python 3"
    },
    "language_info": {
      "name": "python"
    },
    "accelerator": "GPU",
    "gpuClass": "standard"
  },
  "cells": [
    {
      "cell_type": "markdown",
      "source": [
        "## Solving the Directional Solidification problem using PINN"
      ],
      "metadata": {
        "id": "lcqdV17JwLXb"
      }
    },
    {
      "cell_type": "markdown",
      "source": [
        "###Constants:</br>\n",
        "$C_0 = 1$</br>\n",
        "$k_0 = 0.1$</br>\n",
        "$v_p = 1$</br>\n",
        "$D_l = 1$</br>\n"
      ],
      "metadata": {
        "id": "MuwuQTWQnnX4"
      }
    },
    {
      "cell_type": "markdown",
      "source": [
        "###Conditions:</br>\n",
        "Domain $\\epsilon > 0 $</br>\n",
        "PDE1: $\\frac{∂C_l}{∂\\tau}-\\frac{∂C_l}{∂\\epsilon} = \\frac{∂^2C_l}{∂\\epsilon^2}$</br>\n",
        "Interface $ϵ=0$</br>\n",
        "PDE2: $-\\frac{∂C_l}{∂ϵ}=C_l^*(1-k_0)$</br>\n",
        "Initial $τ=0$</br>\n",
        "$C_l = C_0$"
      ],
      "metadata": {
        "id": "l8A3-NcNr2Jh"
      }
    },
    {
      "cell_type": "markdown",
      "source": [
        "###Code"
      ],
      "metadata": {
        "id": "-GzXK5XXt9-e"
      }
    },
    {
      "cell_type": "code",
      "source": [
        "import tensorflow as tf\n",
        "DTYPE = 'float32'\n",
        "tf.keras.backend.set_floatx(DTYPE) # sets the default float type as 32-bit float\n",
        "C0 = tf.constant(1, dtype=DTYPE)\n",
        "k0 = C0*0.1"
      ],
      "metadata": {
        "id": "1vcGVSfznlE_"
      },
      "execution_count": null,
      "outputs": []
    },
    {
      "cell_type": "code",
      "source": [
        "def f1(c_t, c_z, c_zz): # calculates PDE1 value given c's derivatives\n",
        "  return c_t - c_z - c_zz\n",
        "\n",
        "def f2(c_z, c_star): # calculates PDE2 value\n",
        "  return c_star*(1-k0) + c_z"
      ],
      "metadata": {
        "id": "gQgMK9V6wN-6"
      },
      "execution_count": null,
      "outputs": []
    },
    {
      "cell_type": "code",
      "source": [
        "def c2_anal(t,z): # calculates c2 value from its analytical solution\n",
        "  return 1 + (tf.math.erfc((z-t)/(2*(t**0.5)))*tf.math.exp(-z)*(1-k0)/(2*k0)) - (0.5*tf.math.erfc((z+t)/(2*(t**0.5)))) + (tf.math.erfc((z+(2*k0-1)*t)/(2*(t**0.5)))*tf.math.exp(-(z+k0*t)*(1-k0))*(1-1/(2*k0)))"
      ],
      "metadata": {
        "id": "vpM-zJXjyhqI"
      },
      "execution_count": null,
      "outputs": []
    },
    {
      "cell_type": "code",
      "source": [
        "Nm = 200 # no of measurement points\n",
        "\n",
        "tmin, tmax = tf.constant(0.), tf.constant(25.) # lower and upper limit on time\n",
        "zmin, zmax = tf.constant(0.), tf.constant(10.) # lower and upper limit on z\n",
        "\n",
        "tf.random.set_seed(0) # random seed for reproducible results\n",
        "\n",
        "tm = tf.random.uniform((Nm,1), tmin, tmax, dtype=DTYPE) # uniformly sample bwn tmin and tmax\n",
        "zm = tf.random.uniform((Nm,1), zmin, zmax, dtype=DTYPE) # uniformly sample bwn zmin and zmax\n",
        "meas = tf.concat([tm, zm], axis=1) # Measurement Data Points\n",
        "cm = c2_anal(tm,zm) # Analytical value of c at these points"
      ],
      "metadata": {
        "id": "cwZGXPHe52yO"
      },
      "execution_count": null,
      "outputs": []
    },
    {
      "cell_type": "code",
      "source": [
        "def c_model(n_hidden = 5, n_neurons = 100):\n",
        "  model = tf.keras.Sequential() # Feed-Forward Neural Network\n",
        "  model.add(tf.keras.Input(2)) # Input Layer for x and t\n",
        "  for i in range(n_hidden): # n_hidden layers each with n_neurons and swish activation\n",
        "    model.add(tf.keras.layers.Dense(n_neurons, activation=tf.keras.activations.get('swish'), kernel_initializer='glorot_normal'))\n",
        "  model.add(tf.keras.layers.Dense(1)) # Output Layer for c\n",
        "  return model"
      ],
      "metadata": {
        "id": "slUkzGT-7L0G"
      },
      "execution_count": null,
      "outputs": []
    },
    {
      "cell_type": "code",
      "source": [
        "def get_f(cmodel, cps): # calculate f values given model and collocation points\n",
        "  with tf.GradientTape(persistent=True) as tape: # track operations to compute gradient\n",
        "    t, z = cps[:, 0:1], cps[:, 1:2] # extract t and z data each having shape (Nc,1)\n",
        "    tape.watch(t)\n",
        "    tape.watch(z)\n",
        "    c = cmodel(tf.concat([t, z], axis=1)) # c as a function of t and z\n",
        "    s = tf.zeros(shape=tf.shape(t), dtype=DTYPE)\n",
        "    tape.watch(s)\n",
        "    cb = cmodel(tf.concat([t, s], axis=1))\n",
        "    # defined within context to compute 2nd derivatives\n",
        "    c_z = tape.gradient(c, z)\n",
        "  cb_z = tape.gradient(cb, s)\n",
        "  c_t = tape.gradient(c, t)\n",
        "  c_zz = tape.gradient(c_z, z)\n",
        "  del tape\n",
        "  return f1(c_t, c_z, c_zz), f2(cb_z, cb)"
      ],
      "metadata": {
        "id": "gIWaR6rP7t0y"
      },
      "execution_count": null,
      "outputs": []
    },
    {
      "cell_type": "code",
      "source": [
        "def loss_fxn(cmodel, mea, cm, coll): # compute Loss given model and data\n",
        "\n",
        "  zc = coll[:,1:2]\n",
        "  ti = tf.zeros(shape=tf.shape(zc), dtype=DTYPE)\n",
        "  init = tf.concat([ti, zc], axis=1)\n",
        "  pc2i = cmodel(init) # predicted initial conc of liquid\n",
        "  Li = tf.reduce_mean(tf.square(pc2i-C0)) # MSE for initial data\n",
        "\n",
        "  pcm = cmodel(mea) # Concentration prediction on measurement data\n",
        "  Lm = tf.reduce_mean(tf.square(cm - pcm)) # MSE for measurement data\n",
        "\n",
        "  f_1, f_2 = get_f(cmodel, coll) # calculate f values given model and collocation data\n",
        "  Lc = tf.reduce_mean(tf.square(f_1)) + tf.reduce_mean(tf.square(f_2)) # MSE in PDE values for collocation data\n",
        "\n",
        "  loss = Li + Lc + Lm\n",
        "\n",
        "  return loss"
      ],
      "metadata": {
        "id": "pwjAMYcRDObc"
      },
      "execution_count": null,
      "outputs": []
    },
    {
      "cell_type": "code",
      "source": [
        "def L_and_grad_Lw(cmodel, mea, cm, coll): # compute gradient of loss wrt model weights\n",
        "  with tf.GradientTape(persistent=True) as tape:\n",
        "    tape.watch(cmodel.trainable_variables) # keep track of operations on cmodel training parameters\n",
        "    loss = loss_fxn(cmodel, mea, cm, coll) # loss as a function of model (& hence weights)\n",
        "  gc = tape.gradient(loss, cmodel.trainable_variables)\n",
        "  del tape\n",
        "  return loss, gc"
      ],
      "metadata": {
        "id": "0DLHkf_qXN0-"
      },
      "execution_count": null,
      "outputs": []
    },
    {
      "cell_type": "code",
      "source": [
        "Nc = 10000 # No of collocation points\n",
        "cmodel = c_model() # initialise the Conc NN model\n",
        "lr = tf.keras.optimizers.schedules.PiecewiseConstantDecay([1500,3500],[1e-2,1e-3,5e-4]) # decreasing learning rate which is piecewise constant\n",
        "optim = tf.keras.optimizers.Adam(learning_rate=lr) # Adam Optimiser"
      ],
      "metadata": {
        "id": "B6lF4mFeX6E_"
      },
      "execution_count": null,
      "outputs": []
    },
    {
      "cell_type": "code",
      "source": [
        "def train_step(coll):\n",
        "  # compute loss and its gradient wrt model parameters\n",
        "  loss, gc = L_and_grad_Lw(cmodel, meas, cm, coll)\n",
        "  # perform gradient descent step to update the parameters\n",
        "  optim.apply_gradients(zip(gc, cmodel.trainable_variables))\n",
        "  return loss"
      ],
      "metadata": {
        "id": "fC__cOJ-ZSPb"
      },
      "execution_count": null,
      "outputs": []
    },
    {
      "cell_type": "code",
      "source": [
        "from time import time\n",
        "N = 5000 # no of epochs or training iterations\n",
        "losses = []\n",
        "t0 = time()\n",
        "for i in range(1,N+1):\n",
        "  tc = tf.random.uniform((Nc,1), tmin, tmax, dtype=DTYPE) # uniformly sample bwn tmin and tmax\n",
        "  zc = tf.random.uniform((Nc,1), zmin, zmax, dtype=DTYPE) # uniformly sample bwn zmin and zmax\n",
        "  coll = tf.concat([tc, zc], axis=1) # Collocation Data Points\n",
        "  loss = train_step(coll)\n",
        "  losses.append(loss.numpy())\n",
        "print('Final Loss = '+str(losses[-1]))\n",
        "print('Computation Time = {} minutes'.format((time()-t0)/60))"
      ],
      "metadata": {
        "colab": {
          "base_uri": "https://localhost:8080/"
        },
        "id": "a0NuICOQB7b8",
        "outputId": "8ebf6599-91c5-4266-8d24-611563c336c1"
      },
      "execution_count": null,
      "outputs": [
        {
          "output_type": "stream",
          "name": "stderr",
          "text": [
            "WARNING:tensorflow:Calling GradientTape.gradient on a persistent tape inside its context is significantly less efficient than calling it outside the context (it causes the gradient ops to be recorded on the tape, leading to increased CPU and memory usage). Only call GradientTape.gradient inside the context if you actually want to trace the gradient in order to compute higher order derivatives.\n",
            "WARNING:tensorflow:5 out of the last 5 calls to <function _BaseOptimizer._update_step_xla at 0x7f1bf0700940> triggered tf.function retracing. Tracing is expensive and the excessive number of tracings could be due to (1) creating @tf.function repeatedly in a loop, (2) passing tensors with different shapes, (3) passing Python objects instead of tensors. For (1), please define your @tf.function outside of the loop. For (2), @tf.function has reduce_retracing=True option that can avoid unnecessary retracing. For (3), please refer to https://www.tensorflow.org/guide/function#controlling_retracing and https://www.tensorflow.org/api_docs/python/tf/function for  more details.\n",
            "WARNING:tensorflow:6 out of the last 6 calls to <function _BaseOptimizer._update_step_xla at 0x7f1bf0700940> triggered tf.function retracing. Tracing is expensive and the excessive number of tracings could be due to (1) creating @tf.function repeatedly in a loop, (2) passing tensors with different shapes, (3) passing Python objects instead of tensors. For (1), please define your @tf.function outside of the loop. For (2), @tf.function has reduce_retracing=True option that can avoid unnecessary retracing. For (3), please refer to https://www.tensorflow.org/guide/function#controlling_retracing and https://www.tensorflow.org/api_docs/python/tf/function for  more details.\n",
            "WARNING:tensorflow:Calling GradientTape.gradient on a persistent tape inside its context is significantly less efficient than calling it outside the context (it causes the gradient ops to be recorded on the tape, leading to increased CPU and memory usage). Only call GradientTape.gradient inside the context if you actually want to trace the gradient in order to compute higher order derivatives.\n",
            "WARNING:tensorflow:Calling GradientTape.gradient on a persistent tape inside its context is significantly less efficient than calling it outside the context (it causes the gradient ops to be recorded on the tape, leading to increased CPU and memory usage). Only call GradientTape.gradient inside the context if you actually want to trace the gradient in order to compute higher order derivatives.\n",
            "WARNING:tensorflow:Calling GradientTape.gradient on a persistent tape inside its context is significantly less efficient than calling it outside the context (it causes the gradient ops to be recorded on the tape, leading to increased CPU and memory usage). Only call GradientTape.gradient inside the context if you actually want to trace the gradient in order to compute higher order derivatives.\n",
            "WARNING:tensorflow:Calling GradientTape.gradient on a persistent tape inside its context is significantly less efficient than calling it outside the context (it causes the gradient ops to be recorded on the tape, leading to increased CPU and memory usage). Only call GradientTape.gradient inside the context if you actually want to trace the gradient in order to compute higher order derivatives.\n"
          ]
        },
        {
          "output_type": "stream",
          "name": "stdout",
          "text": [
            "Final Loss = 0.00020573879\n",
            "Computation Time = 16.117248555024464 minutes\n"
          ]
        }
      ]
    },
    {
      "cell_type": "code",
      "source": [
        "from time import time\n",
        "N = 5000 # no of epochs or training iterations\n",
        "losses = []\n",
        "t0 = time()\n",
        "for i in range(1,N+1):\n",
        "  tc = tf.random.uniform((Nc,1), tmin, tmax, dtype=DTYPE) # uniformly sample bwn tmin and tmax\n",
        "  zc = tf.random.uniform((Nc,1), zmin, zmax, dtype=DTYPE) # uniformly sample bwn zmin and zmax\n",
        "  coll = tf.concat([tc, zc], axis=1) # Collocation Data Points\n",
        "  loss = train_step(coll)\n",
        "  losses.append(loss.numpy())\n",
        "print('Final Loss = '+str(losses[-1]))\n",
        "print('Computation Time = {} minutes'.format((time()-t0)/60))"
      ],
      "metadata": {
        "colab": {
          "base_uri": "https://localhost:8080/"
        },
        "id": "63AvzGsCZv-R",
        "outputId": "38229ea4-5270-40ab-e283-bd5406b1e928"
      },
      "execution_count": null,
      "outputs": [
        {
          "output_type": "stream",
          "name": "stderr",
          "text": [
            "WARNING:tensorflow:Calling GradientTape.gradient on a persistent tape inside its context is significantly less efficient than calling it outside the context (it causes the gradient ops to be recorded on the tape, leading to increased CPU and memory usage). Only call GradientTape.gradient inside the context if you actually want to trace the gradient in order to compute higher order derivatives.\n",
            "WARNING:tensorflow:5 out of the last 5 calls to <function _BaseOptimizer._update_step_xla at 0x7f84dc2d3040> triggered tf.function retracing. Tracing is expensive and the excessive number of tracings could be due to (1) creating @tf.function repeatedly in a loop, (2) passing tensors with different shapes, (3) passing Python objects instead of tensors. For (1), please define your @tf.function outside of the loop. For (2), @tf.function has reduce_retracing=True option that can avoid unnecessary retracing. For (3), please refer to https://www.tensorflow.org/guide/function#controlling_retracing and https://www.tensorflow.org/api_docs/python/tf/function for  more details.\n",
            "WARNING:tensorflow:6 out of the last 6 calls to <function _BaseOptimizer._update_step_xla at 0x7f84dc2d3040> triggered tf.function retracing. Tracing is expensive and the excessive number of tracings could be due to (1) creating @tf.function repeatedly in a loop, (2) passing tensors with different shapes, (3) passing Python objects instead of tensors. For (1), please define your @tf.function outside of the loop. For (2), @tf.function has reduce_retracing=True option that can avoid unnecessary retracing. For (3), please refer to https://www.tensorflow.org/guide/function#controlling_retracing and https://www.tensorflow.org/api_docs/python/tf/function for  more details.\n"
          ]
        },
        {
          "output_type": "stream",
          "name": "stdout",
          "text": [
            "Final Loss = 0.00015280854\n",
            "Computation Time = 13.952884169419606 minutes\n"
          ]
        }
      ]
    },
    {
      "cell_type": "code",
      "source": [
        "import matplotlib.pyplot as plt\n",
        "import numpy as np\n",
        "epochs = [i for i in range(1,N+1)]\n",
        "plt.yscale('log')\n",
        "plt.plot(epochs, losses)\n",
        "plt.xlabel('Epoch')\n",
        "plt.ylabel('Loss')"
      ],
      "metadata": {
        "colab": {
          "base_uri": "https://localhost:8080/",
          "height": 296
        },
        "id": "46nhj8P0ahTW",
        "outputId": "e3dc7b6b-d314-492c-86e8-0d171753ee73"
      },
      "execution_count": null,
      "outputs": [
        {
          "output_type": "execute_result",
          "data": {
            "text/plain": [
              "Text(0, 0.5, 'Loss')"
            ]
          },
          "metadata": {},
          "execution_count": 12
        },
        {
          "output_type": "display_data",
          "data": {
            "text/plain": [
              "<Figure size 432x288 with 1 Axes>"
            ],
            "image/png": "[encoded data removed]"
          },
          "metadata": {
            "needs_background": "light"
          }
        }
      ]
    },
    {
      "cell_type": "code",
      "source": [
        "N = 500\n",
        "zspace = np.expand_dims(np.linspace(zmin, zmax, N+1),axis=1)\n",
        "tspace = np.ones_like(zspace)*16\n",
        "Z = tf.cast(zspace,DTYPE)\n",
        "T = tf.cast(tspace,DTYPE)\n",
        "cpred = cmodel(tf.concat([T, Z], axis=1)).numpy()\n",
        "ctrue = c2_anal(T,Z).numpy()\n",
        "plt.plot(Z,cpred,color='orange')\n",
        "plt.plot(Z,ctrue,color='blue')\n",
        "plt.legend(['PINN Predicted','Analytical Solution'])\n",
        "plt.xlabel('Z (Distance from Interface)')\n",
        "plt.ylabel('C (Concentration in Liquid)')"
      ],
      "metadata": {
        "colab": {
          "base_uri": "https://localhost:8080/",
          "height": 296
        },
        "id": "wy4m7UW5fo1f",
        "outputId": "1bf001bc-a99c-45ca-d227-1fa554e977ba"
      },
      "execution_count": null,
      "outputs": [
        {
          "output_type": "execute_result",
          "data": {
            "text/plain": [
              "Text(0, 0.5, 'C (Concentration in Liquid)')"
            ]
          },
          "metadata": {},
          "execution_count": 15
        },
        {
          "output_type": "display_data",
          "data": {
            "text/plain": [
              "<Figure size 432x288 with 1 Axes>"
            ],
            "image/png": "[encoded data removed]"
          },
          "metadata": {
            "needs_background": "light"
          }
        }
      ]
    },
    {
      "cell_type": "code",
      "source": [
        "import pickle\n",
        "filename = 'ds_cmodel.sav'\n",
        "pickle.dump(cmodel, open(filename, 'wb'))"
      ],
      "metadata": {
        "colab": {
          "base_uri": "https://localhost:8080/"
        },
        "id": "tBE7rMIXjCYS",
        "outputId": "89a09e6f-88ea-45b6-8dea-53d31d0ceb06"
      },
      "execution_count": null,
      "outputs": [
        {
          "output_type": "stream",
          "name": "stdout",
          "text": [
            "Keras weights file (<HDF5 file \"variables.h5\" (mode r+)>) saving:\n",
            "...layers\n",
            "......dense\n",
            ".........vars\n",
            "............0\n",
            "............1\n",
            "......dense_1\n",
            ".........vars\n",
            "............0\n",
            "............1\n",
            "......dense_2\n",
            ".........vars\n",
            "............0\n",
            "............1\n",
            "......dense_3\n",
            ".........vars\n",
            "............0\n",
            "............1\n",
            "......dense_4\n",
            ".........vars\n",
            "............0\n",
            "............1\n",
            "......dense_5\n",
            ".........vars\n",
            "............0\n",
            "............1\n",
            "...vars\n",
            "Keras model archive saving:\n",
            "File Name                                             Modified             Size\n",
            "variables.h5                                   2023-02-16 18:46:55       182632\n",
            "metadata.json                                  2023-02-16 18:46:55           64\n",
            "config.json                                    2023-02-16 18:46:55         2845\n"
          ]
        }
      ]
    },
    {
      "cell_type": "code",
      "source": [
        "import pickle\n",
        "filename = '/content/ds_cmodel.sav'\n",
        "cmodel = pickle.load(open(filename,'rb'))"
      ],
      "metadata": {
        "colab": {
          "base_uri": "https://localhost:8080/"
        },
        "id": "LSk2ivVZZhOw",
        "outputId": "5533cc3c-fa35-452c-db03-4f455239040f"
      },
      "execution_count": null,
      "outputs": [
        {
          "output_type": "stream",
          "name": "stdout",
          "text": [
            "Keras model archive loading:\n",
            "File Name                                             Modified             Size\n",
            "variables.h5                                   2023-02-16 18:46:54       182632\n",
            "metadata.json                                  2023-02-16 18:46:54           64\n",
            "config.json                                    2023-02-16 18:46:54         2845\n",
            "Keras weights file (<HDF5 file \"variables.h5\" (mode r)>) loading:\n",
            "...layers\n",
            "......dense\n",
            ".........vars\n",
            "............0\n",
            "............1\n",
            "......dense_1\n",
            ".........vars\n",
            "............0\n",
            "............1\n",
            "......dense_2\n",
            ".........vars\n",
            "............0\n",
            "............1\n",
            "......dense_3\n",
            ".........vars\n",
            "............0\n",
            "............1\n",
            "......dense_4\n",
            ".........vars\n",
            "............0\n",
            "............1\n",
            "......dense_5\n",
            ".........vars\n",
            "............0\n",
            "............1\n",
            "...vars\n"
          ]
        }
      ]
    },
    {
      "cell_type": "code",
      "source": [
        "import tensorflow as tf\n",
        "DTYPE = 'float32'\n",
        "import numpy as np\n",
        "import matplotlib.pyplot as plt"
      ],
      "metadata": {
        "id": "O4Hg9P6PbFX3"
      },
      "execution_count": null,
      "outputs": []
    },
    {
      "cell_type": "code",
      "source": [
        "t_values = [0.25,0.5,1,2,4,8,16,24]\n",
        "N = 500\n",
        "zmin, zmax = tf.constant(0.), tf.constant(10.)\n",
        "zspace = np.expand_dims(np.linspace(zmin, zmax, N+1),axis=1)\n",
        "Z = tf.cast(zspace,DTYPE)\n",
        "for t in t_values:\n",
        "    tspace = np.ones_like(zspace)*t\n",
        "    T = tf.cast(tspace,DTYPE)\n",
        "    cpred = cmodel(tf.concat([T, Z], axis=1)).numpy()\n",
        "    X = Z + T\n",
        "    plt.plot(X,cpred)\n",
        "plt.legend(['t = 0.25','t = 0.5','t = 1','t = 2','t = 4','t = 8','t = 16','t = 24'])\n",
        "plt.xlabel('X (Position from Origin)')\n",
        "plt.ylabel('C (Concentration in Liquid)')\n",
        "plt.title('Predicted Profiles using PINN')"
      ],
      "metadata": {
        "id": "9aBKAp7Trv_V",
        "colab": {
          "base_uri": "https://localhost:8080/",
          "height": 296
        },
        "outputId": "baf6830b-8156-43c1-c700-a51c07636b9c"
      },
      "execution_count": null,
      "outputs": [
        {
          "output_type": "execute_result",
          "data": {
            "text/plain": [
              "Text(0, 0.5, 'C (Concentration in Liquid)')"
            ]
          },
          "metadata": {},
          "execution_count": 8
        },
        {
          "output_type": "display_data",
          "data": {
            "text/plain": [
              "<Figure size 432x288 with 1 Axes>"
            ],
            "image/png": "[encoded data removed]"
          },
          "metadata": {
            "needs_background": "light"
          }
        }
      ]
    },
    {
      "cell_type": "code",
      "source": [
        "for t in t_values:\n",
        "    tspace = np.ones_like(zspace)*t\n",
        "    T = tf.cast(tspace,DTYPE)\n",
        "    ctrue = c2_anal(T,Z).numpy()\n",
        "    X = Z + T\n",
        "    plt.plot(X,ctrue)\n",
        "plt.legend(['t = 0.25','t = 0.5','t = 1','t = 2','t = 4','t = 8','t = 16','t = 24'])\n",
        "plt.xlabel('X (Position from Origin)')\n",
        "plt.ylabel('C (Concentration in Liquid)')\n",
        "plt.title('Graphs via Analytical Solution')"
      ],
      "metadata": {
        "colab": {
          "base_uri": "https://localhost:8080/",
          "height": 312
        },
        "id": "5K0SgRWGgIYZ",
        "outputId": "adbf4a52-6449-402e-8e3e-3b037eeee82e"
      },
      "execution_count": null,
      "outputs": [
        {
          "output_type": "execute_result",
          "data": {
            "text/plain": [
              "Text(0.5, 1.0, 'Graphs via Analytical Solution')"
            ]
          },
          "metadata": {},
          "execution_count": 9
        },
        {
          "output_type": "display_data",
          "data": {
            "text/plain": [
              "<Figure size 432x288 with 1 Axes>"
            ],
            "image/png": "[encoded data removed]"
          },
          "metadata": {
            "needs_background": "light"
          }
        }
      ]
    }
  ]
}