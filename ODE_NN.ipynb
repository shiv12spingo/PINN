{
  "nbformat": 4,
  "nbformat_minor": 0,
  "metadata": {
    "colab": {
      "provenance": []
    },
    "kernelspec": {
      "name": "python3",
      "display_name": "Python 3"
    },
    "language_info": {
      "name": "python"
    }
  },
  "cells": [
    {
      "cell_type": "markdown",
      "source": [
        "## Solving a simple Ordinary Differential Equation (ODE) using a neural network"
      ],
      "metadata": {
        "id": "wZk1p4hjkIY5"
      }
    },
    {
      "cell_type": "markdown",
      "source": [
        "Reference: https://towardsdatascience.com/using-neural-networks-to-solve-ordinary-differential-equations-a7806de99cdd"
      ],
      "metadata": {
        "id": "Uwyi7kcfkYlw"
      }
    },
    {
      "cell_type": "markdown",
      "source": [
        "Simple ODE $ u' = f(x) = 2x $<br>\n",
        "Initial Condition $ u(0) = 1 $<br>\n",
        "Analytical Solution = $ x^2 + 1 $<br>\n",
        "Domain $ = x \\in [0,1] $<br>\n",
        "$ g(x) = u(0) + x*NN(x) $<br>\n",
        "g is a solution to u satisfying IC<br>\n",
        "Train g' to be u' to satisfy ODE"
      ],
      "metadata": {
        "id": "SBgx0wK490nr"
      }
    },
    {
      "cell_type": "code",
      "execution_count": null,
      "metadata": {
        "id": "i2BRKol2Ry2y"
      },
      "outputs": [],
      "source": [
        "import tensorflow as tf\n",
        "# Number of neurons in each of the 4 layers\n",
        "n_input, n_hidden_1, n_hidden_2, n_output = 1, 32, 32, 1\n",
        "# Random initialisation of weights between layers\n",
        "weights = {\n",
        "'w1': tf.Variable(tf.random.normal([n_input, n_hidden_1])),\n",
        "'w2': tf.Variable(tf.random.normal([n_hidden_1, n_hidden_2])),\n",
        "'wout': tf.Variable(tf.random.normal([n_hidden_2, n_output]))}\n",
        "# Random initialisation of biases\n",
        "biases = {\n",
        "'b1': tf.Variable(tf.random.normal([n_hidden_1])),\n",
        "'b2': tf.Variable(tf.random.normal([n_hidden_2])),\n",
        "'bout': tf.Variable(tf.random.normal([n_output]))}"
      ]
    },
    {
      "cell_type": "code",
      "source": [
        "def NN(x): # 2 hidden layers each with sigmoid activation, followed by output layer\n",
        "  layer_1 = tf.add(tf.matmul(x, weights['w1']), biases['b1'])\n",
        "  layer_1 = tf.nn.sigmoid(layer_1)\n",
        "  layer_2 = tf.add(tf.matmul(layer_1, weights['w2']), biases['b2'])\n",
        "  layer_2 = tf.nn.sigmoid(layer_2)\n",
        "  output = tf.matmul(layer_2, weights['wout']) + biases['bout']\n",
        "  return output"
      ],
      "metadata": {
        "id": "f65M9Yu5lz8V"
      },
      "execution_count": null,
      "outputs": []
    },
    {
      "cell_type": "code",
      "source": [
        "u0 = 1\n",
        "def g(x):\n",
        "  return tf.add(tf.multiply(x,NN(x)),u0)\n",
        "def f(x):\n",
        "  return tf.scalar_mul(2.0,x)"
      ],
      "metadata": {
        "id": "UdpVwFNlHihU"
      },
      "execution_count": null,
      "outputs": []
    },
    {
      "cell_type": "code",
      "source": [
        "N, xmin, xmax = 10, 0, 1 # 10 random points in [0,1]\n",
        "x = tf.random.uniform((N,1), xmin, xmax, dtype='float32')"
      ],
      "metadata": {
        "id": "IgP1G0RJLflQ"
      },
      "execution_count": null,
      "outputs": []
    },
    {
      "cell_type": "code",
      "source": [
        "def loss_fxn(x):\n",
        "  with tf.GradientTape() as tape:\n",
        "    tape.watch(x)\n",
        "    g_val = g(x)\n",
        "  grad_gx = tape.gradient(g_val,x)\n",
        "  error = grad_gx - f(x)\n",
        "  loss = tf.reduce_mean(tf.square(error))\n",
        "  return loss"
      ],
      "metadata": {
        "id": "6MJtlNtLOOJB"
      },
      "execution_count": null,
      "outputs": []
    },
    {
      "cell_type": "code",
      "source": [
        "learning_rate = 0.01\n",
        "optimizer = tf.optimizers.SGD(learning_rate)\n",
        "def train_step():\n",
        "  with tf.GradientTape() as tape:\n",
        "    loss = loss_fxn(x)\n",
        "  trainable_variables=list(weights.values())+list(biases.values())\n",
        "  gradients = tape.gradient(loss, trainable_variables)\n",
        "  optimizer.apply_gradients(zip(gradients, trainable_variables))\n",
        "  return loss"
      ],
      "metadata": {
        "id": "mo-Pfp_0RP3U"
      },
      "execution_count": null,
      "outputs": []
    },
    {
      "cell_type": "code",
      "source": [
        "training_steps = 1000\n",
        "losses = []\n",
        "for i in range(training_steps):\n",
        "  loss = train_step()\n",
        "  losses.append(loss.numpy())\n",
        "print('Final Loss = '+str(losses[-1]))\n",
        "epochs = [i for i in range(1,training_steps+1)]\n",
        "import matplotlib.pyplot as plt\n",
        "plt.plot(epochs, losses)\n",
        "plt.xlabel('Epoch')\n",
        "plt.ylabel('Loss')"
      ],
      "metadata": {
        "colab": {
          "base_uri": "https://localhost:8080/",
          "height": 314
        },
        "id": "O_D6uBMQVIxw",
        "outputId": "6b900b67-0768-42e6-c607-7b5dcccfeedf"
      },
      "execution_count": null,
      "outputs": [
        {
          "output_type": "stream",
          "name": "stdout",
          "text": [
            "Final Loss = 0.002217935\n"
          ]
        },
        {
          "output_type": "execute_result",
          "data": {
            "text/plain": [
              "Text(0, 0.5, 'Loss')"
            ]
          },
          "metadata": {},
          "execution_count": 16
        },
        {
          "output_type": "display_data",
          "data": {
            "text/plain": [
              "<Figure size 432x288 with 1 Axes>"
            ],
            "image/png": "[encoded data removed]"
          },
          "metadata": {
            "needs_background": "light"
          }
        }
      ]
    },
    {
      "cell_type": "code",
      "source": [
        "import numpy as np\n",
        "def true_sol(x):\n",
        "  return tf.add(tf.square(x),1)\n",
        "xspace = np.linspace(0,1,100)\n",
        "x_inp = xspace.reshape(xspace.shape[0],1)\n",
        "X = tf.cast(x_inp,'float32')\n",
        "U = g(X).numpy()\n",
        "UA = true_sol(X).numpy()\n",
        "plt.plot(xspace, U, label = 'NN Approximation')\n",
        "plt.plot(xspace, UA, label = 'Original Function')\n",
        "plt.legend()"
      ],
      "metadata": {
        "colab": {
          "base_uri": "https://localhost:8080/",
          "height": 282
        },
        "id": "jT0quRpnWRa6",
        "outputId": "ffa27faf-f9f3-441e-dc30-186d02d5e48f"
      },
      "execution_count": null,
      "outputs": [
        {
          "output_type": "execute_result",
          "data": {
            "text/plain": [
              "<matplotlib.legend.Legend at 0x7f6368d11f90>"
            ]
          },
          "metadata": {},
          "execution_count": 18
        },
        {
          "output_type": "display_data",
          "data": {
            "text/plain": [
              "<Figure size 432x288 with 1 Axes>"
            ],
            "image/png": "[encoded data removed]"
          },
          "metadata": {
            "needs_background": "light"
          }
        }
      ]
    }
  ]
}